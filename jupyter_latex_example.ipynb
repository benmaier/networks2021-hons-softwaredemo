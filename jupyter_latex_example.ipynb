{
 "cells": [
  {
   "cell_type": "code",
   "execution_count": 1,
   "metadata": {},
   "outputs": [
    {
     "data": {
      "text/latex": [
       "$\\displaystyle \\frac{d}{d t} S = - \\frac{R_{0} S \\left(A + I\\right) \\left(\\sin^{2}{\\left(\\frac{2 \\pi t}{5} \\right)} + 0.5\\right)}{t_{I}}$"
      ],
      "text/plain": [
       "<IPython.core.display.Math object>"
      ]
     },
     "metadata": {},
     "output_type": "display_data"
    },
    {
     "data": {
      "text/latex": [
       "$\\displaystyle \\frac{d}{d t} E = \\frac{- E t_{I} + R_{0} S t_{L} \\left(A + I\\right) \\left(\\sin^{2}{\\left(\\frac{2 \\pi t}{5} \\right)} + 0.5\\right)}{t_{I} t_{L}}$"
      ],
      "text/plain": [
       "<IPython.core.display.Math object>"
      ]
     },
     "metadata": {},
     "output_type": "display_data"
    },
    {
     "data": {
      "text/latex": [
       "$\\displaystyle \\frac{d}{d t} I = \\frac{E p t_{I} + t_{L} \\left(A R_{0} S \\left(\\sin^{2}{\\left(\\frac{2 \\pi t}{5} \\right)} + 0.5\\right) - I\\right)}{t_{I} t_{L}}$"
      ],
      "text/plain": [
       "<IPython.core.display.Math object>"
      ]
     },
     "metadata": {},
     "output_type": "display_data"
    },
    {
     "data": {
      "text/latex": [
       "$\\displaystyle \\frac{d}{d t} A = - \\frac{A t_{L} \\left(R_{0} S \\left(\\sin^{2}{\\left(\\frac{2 \\pi t}{5} \\right)} + 0.5\\right) + 1\\right) + E t_{I} \\left(p - 1\\right)}{t_{I} t_{L}}$"
      ],
      "text/plain": [
       "<IPython.core.display.Math object>"
      ]
     },
     "metadata": {},
     "output_type": "display_data"
    },
    {
     "data": {
      "text/latex": [
       "$\\displaystyle \\frac{d}{d t} R = \\frac{A + I}{t_{I}}$"
      ],
      "text/plain": [
       "<IPython.core.display.Math object>"
      ]
     },
     "metadata": {},
     "output_type": "display_data"
    }
   ],
   "source": [
    "import epipack as epk\n",
    "import epipack.plottools as epl\n",
    "import numpy as np\n",
    "import matplotlib.pyplot as pl\n",
    "\n",
    "import sympy as sy\n",
    "\n",
    "S, E, I, A, R = comp = sy.symbols(\"S E I A R\")\n",
    "\n",
    "latent_period = sy.symbols(\"t_L\") #d\n",
    "R0 = sy.symbols(\"R_0\")\n",
    "infectious_period = sy.symbols(\"t_I\") #d\n",
    "inf_rate = R0 / infectious_period\n",
    "p = sy.symbols(\"p\")\n",
    "t = sy.symbols(\"t\")\n",
    "\n",
    "temporal_infection_rate = inf_rate * (sy.sin(2*sy.pi*t/5)**2+0.5)\n",
    "#return inf_rate * (np.sin(2*np.pi*t/5)**2+0.5)\n",
    "\n",
    "\n",
    "model = ( epk.SymbolicEpiModel(comp)\n",
    "             .set_processes([\n",
    "                    (S,I, temporal_infection_rate ,E, I),\n",
    "                    (S,A, temporal_infection_rate ,E, I),\n",
    "                    (E, (1-p)/latent_period ,A),\n",
    "                    (E, p/latent_period ,I),\n",
    "                    (I, 1/infectious_period ,R),\n",
    "                    (A, 1/infectious_period ,R),\n",
    "                 ])\n",
    "             #.set_initial_conditions({\n",
    "             #       'S' : 1-I0,\n",
    "             #       'I' : I0,\n",
    "             #    })\n",
    "             )\n",
    "\n",
    "\n",
    "#t = np.linspace(0,100,1000)\n",
    "#result = model.integrate(t)\n",
    "\n",
    "model.ODEs_jupyter()\n"
   ]
  },
  {
   "cell_type": "code",
   "execution_count": null,
   "metadata": {},
   "outputs": [],
   "source": []
  }
 ],
 "metadata": {
  "kernelspec": {
   "display_name": "Python 3",
   "language": "python",
   "name": "python3"
  },
  "language_info": {
   "codemirror_mode": {
    "name": "ipython",
    "version": 3
   },
   "file_extension": ".py",
   "mimetype": "text/x-python",
   "name": "python",
   "nbconvert_exporter": "python",
   "pygments_lexer": "ipython3",
   "version": "3.8.9"
  }
 },
 "nbformat": 4,
 "nbformat_minor": 4
}
