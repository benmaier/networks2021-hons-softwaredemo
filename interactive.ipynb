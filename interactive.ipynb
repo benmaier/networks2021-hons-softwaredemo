{
 "cells": [
  {
   "cell_type": "code",
   "execution_count": 3,
   "metadata": {},
   "outputs": [],
   "source": [
    "from epipack import SymbolicEpiModel\n",
    "from epipack.interactive import InteractiveIntegrator, Range, LogRange\n",
    "import sympy\n",
    "import numpy as np\n",
    "\n",
    "%matplotlib widget\n",
    "\n",
    "S, I, R, R0, tau, omega = sympy.symbols(\"S I R R_0 tau omega\")\n",
    "\n",
    "I0 = 0.01\n",
    "model = SymbolicEpiModel([S,I,R])\\\n",
    "         .set_processes([\n",
    "                (S, I, R0/tau, I, I),\n",
    "                (I, 1/tau, R),\n",
    "                (R, omega, S),\n",
    "            ])\\\n",
    "         .set_initial_conditions({S:1-I0, I:I0})\n",
    "\n",
    "\n",
    "parameters = {\n",
    "    R0: LogRange(min=0.1,max=10,step_count=1000),\n",
    "    tau: Range(min=0.1,max=10,value=8.0),\n",
    "    omega: 1/14\n",
    "}"
   ]
  },
  {
   "cell_type": "code",
   "execution_count": 4,
   "metadata": {},
   "outputs": [
    {
     "data": {
      "application/vnd.jupyter.widget-view+json": {
       "model_id": "f46b2934b47d4657946fc4ad60dd51e8",
       "version_major": 2,
       "version_minor": 0
      },
      "text/plain": [
       "InteractiveIntegrator(children=(VBox(children=(FloatLogSlider(value=1.0, continuous_update=False, description=…"
      ]
     },
     "metadata": {},
     "output_type": "display_data"
    }
   ],
   "source": [
    "t = np.logspace(-3,2,1000)\n",
    "InteractiveIntegrator(model, parameters, t, figsize=(4,4))"
   ]
  },
  {
   "cell_type": "code",
   "execution_count": null,
   "metadata": {},
   "outputs": [],
   "source": []
  }
 ],
 "metadata": {
  "kernelspec": {
   "display_name": "Python 3",
   "language": "python",
   "name": "python3"
  },
  "language_info": {
   "codemirror_mode": {
    "name": "ipython",
    "version": 3
   },
   "file_extension": ".py",
   "mimetype": "text/x-python",
   "name": "python",
   "nbconvert_exporter": "python",
   "pygments_lexer": "ipython3",
   "version": "3.8.9"
  }
 },
 "nbformat": 4,
 "nbformat_minor": 4
}
